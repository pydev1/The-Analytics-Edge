{
 "cells": [
  {
   "cell_type": "code",
   "execution_count": 43,
   "metadata": {},
   "outputs": [],
   "source": [
    "import numpy as np\n",
    "from sklearn.linear_model import LinearRegression\n",
    "from sklearn.metrics import classification_report\n",
    "import statsmodels.api as sm\n",
    "import statsmodels.formula.api as smf\n",
    "import pandas as pd\n",
    "import os"
   ]
  },
  {
   "cell_type": "code",
   "execution_count": 105,
   "metadata": {},
   "outputs": [],
   "source": [
    "os.chdir(\"E:\\\\eDX - Analytics Edge\\\\Week2\\\\\")"
   ]
  },
  {
   "cell_type": "code",
   "execution_count": 144,
   "metadata": {},
   "outputs": [],
   "source": [
    "pisaTrain = pd.read_csv(\"pisa2009train.csv\")"
   ]
  },
  {
   "cell_type": "code",
   "execution_count": 145,
   "metadata": {},
   "outputs": [],
   "source": [
    "pisaTest = pd.read_csv(\"pisa2009test.csv\")"
   ]
  },
  {
   "cell_type": "code",
   "execution_count": 146,
   "metadata": {},
   "outputs": [
    {
     "name": "stdout",
     "output_type": "stream",
     "text": [
      "<class 'pandas.core.frame.DataFrame'>\n",
      "RangeIndex: 3663 entries, 0 to 3662\n",
      "Data columns (total 24 columns):\n",
      " #   Column                 Non-Null Count  Dtype  \n",
      "---  ------                 --------------  -----  \n",
      " 0   grade                  3663 non-null   int64  \n",
      " 1   male                   3663 non-null   int64  \n",
      " 2   raceeth                3628 non-null   object \n",
      " 3   preschool              3607 non-null   float64\n",
      " 4   expectBachelors        3601 non-null   float64\n",
      " 5   motherHS               3566 non-null   float64\n",
      " 6   motherBachelors        3266 non-null   float64\n",
      " 7   motherWork             3570 non-null   float64\n",
      " 8   fatherHS               3418 non-null   float64\n",
      " 9   fatherBachelors        3094 non-null   float64\n",
      " 10  fatherWork             3430 non-null   float64\n",
      " 11  selfBornUS             3594 non-null   float64\n",
      " 12  motherBornUS           3592 non-null   float64\n",
      " 13  fatherBornUS           3550 non-null   float64\n",
      " 14  englishAtHome          3592 non-null   float64\n",
      " 15  computerForSchoolwork  3598 non-null   float64\n",
      " 16  read30MinsADay         3629 non-null   float64\n",
      " 17  minutesPerWeekEnglish  3477 non-null   float64\n",
      " 18  studentsInEnglish      3414 non-null   float64\n",
      " 19  schoolHasLibrary       3520 non-null   float64\n",
      " 20  publicSchool           3663 non-null   int64  \n",
      " 21  urban                  3663 non-null   int64  \n",
      " 22  schoolSize             3501 non-null   float64\n",
      " 23  readingScore           3663 non-null   float64\n",
      "dtypes: float64(19), int64(4), object(1)\n",
      "memory usage: 686.9+ KB\n"
     ]
    }
   ],
   "source": [
    "# Problem 1.1 - Dataset size\n",
    "# How many students are there in the training set?\n",
    "pisaTrain.info()"
   ]
  },
  {
   "cell_type": "code",
   "execution_count": 147,
   "metadata": {},
   "outputs": [
    {
     "data": {
      "text/plain": [
       "male\n",
       "0    512.940631\n",
       "1    483.532479\n",
       "Name: readingScore, dtype: float64"
      ]
     },
     "execution_count": 147,
     "metadata": {},
     "output_type": "execute_result"
    }
   ],
   "source": [
    "#Problem 1.2 - Summarizing the dataset\n",
    "pisaTrain[\"readingScore\"].groupby(pisaTrain[\"male\"]).mean()"
   ]
  },
  {
   "cell_type": "code",
   "execution_count": 148,
   "metadata": {},
   "outputs": [
    {
     "data": {
      "text/html": [
       "<div>\n",
       "<style scoped>\n",
       "    .dataframe tbody tr th:only-of-type {\n",
       "        vertical-align: middle;\n",
       "    }\n",
       "\n",
       "    .dataframe tbody tr th {\n",
       "        vertical-align: top;\n",
       "    }\n",
       "\n",
       "    .dataframe thead th {\n",
       "        text-align: right;\n",
       "    }\n",
       "</style>\n",
       "<table border=\"1\" class=\"dataframe\">\n",
       "  <thead>\n",
       "    <tr style=\"text-align: right;\">\n",
       "      <th></th>\n",
       "      <th>grade</th>\n",
       "      <th>male</th>\n",
       "      <th>raceeth</th>\n",
       "      <th>preschool</th>\n",
       "      <th>expectBachelors</th>\n",
       "      <th>motherHS</th>\n",
       "      <th>motherBachelors</th>\n",
       "      <th>motherWork</th>\n",
       "      <th>fatherHS</th>\n",
       "      <th>fatherBachelors</th>\n",
       "      <th>...</th>\n",
       "      <th>englishAtHome</th>\n",
       "      <th>computerForSchoolwork</th>\n",
       "      <th>read30MinsADay</th>\n",
       "      <th>minutesPerWeekEnglish</th>\n",
       "      <th>studentsInEnglish</th>\n",
       "      <th>schoolHasLibrary</th>\n",
       "      <th>publicSchool</th>\n",
       "      <th>urban</th>\n",
       "      <th>schoolSize</th>\n",
       "      <th>readingScore</th>\n",
       "    </tr>\n",
       "  </thead>\n",
       "  <tbody>\n",
       "    <tr>\n",
       "      <th>0</th>\n",
       "      <td>False</td>\n",
       "      <td>False</td>\n",
       "      <td>True</td>\n",
       "      <td>True</td>\n",
       "      <td>False</td>\n",
       "      <td>True</td>\n",
       "      <td>True</td>\n",
       "      <td>False</td>\n",
       "      <td>True</td>\n",
       "      <td>True</td>\n",
       "      <td>...</td>\n",
       "      <td>False</td>\n",
       "      <td>False</td>\n",
       "      <td>False</td>\n",
       "      <td>False</td>\n",
       "      <td>True</td>\n",
       "      <td>False</td>\n",
       "      <td>False</td>\n",
       "      <td>False</td>\n",
       "      <td>False</td>\n",
       "      <td>False</td>\n",
       "    </tr>\n",
       "    <tr>\n",
       "      <th>1</th>\n",
       "      <td>False</td>\n",
       "      <td>False</td>\n",
       "      <td>False</td>\n",
       "      <td>False</td>\n",
       "      <td>False</td>\n",
       "      <td>False</td>\n",
       "      <td>False</td>\n",
       "      <td>False</td>\n",
       "      <td>False</td>\n",
       "      <td>False</td>\n",
       "      <td>...</td>\n",
       "      <td>False</td>\n",
       "      <td>False</td>\n",
       "      <td>False</td>\n",
       "      <td>False</td>\n",
       "      <td>False</td>\n",
       "      <td>False</td>\n",
       "      <td>False</td>\n",
       "      <td>False</td>\n",
       "      <td>False</td>\n",
       "      <td>False</td>\n",
       "    </tr>\n",
       "    <tr>\n",
       "      <th>2</th>\n",
       "      <td>False</td>\n",
       "      <td>False</td>\n",
       "      <td>False</td>\n",
       "      <td>False</td>\n",
       "      <td>False</td>\n",
       "      <td>False</td>\n",
       "      <td>False</td>\n",
       "      <td>False</td>\n",
       "      <td>False</td>\n",
       "      <td>True</td>\n",
       "      <td>...</td>\n",
       "      <td>False</td>\n",
       "      <td>False</td>\n",
       "      <td>False</td>\n",
       "      <td>False</td>\n",
       "      <td>False</td>\n",
       "      <td>False</td>\n",
       "      <td>False</td>\n",
       "      <td>False</td>\n",
       "      <td>False</td>\n",
       "      <td>False</td>\n",
       "    </tr>\n",
       "    <tr>\n",
       "      <th>3</th>\n",
       "      <td>False</td>\n",
       "      <td>False</td>\n",
       "      <td>False</td>\n",
       "      <td>False</td>\n",
       "      <td>False</td>\n",
       "      <td>False</td>\n",
       "      <td>False</td>\n",
       "      <td>False</td>\n",
       "      <td>False</td>\n",
       "      <td>False</td>\n",
       "      <td>...</td>\n",
       "      <td>False</td>\n",
       "      <td>False</td>\n",
       "      <td>False</td>\n",
       "      <td>False</td>\n",
       "      <td>False</td>\n",
       "      <td>False</td>\n",
       "      <td>False</td>\n",
       "      <td>False</td>\n",
       "      <td>False</td>\n",
       "      <td>False</td>\n",
       "    </tr>\n",
       "    <tr>\n",
       "      <th>4</th>\n",
       "      <td>False</td>\n",
       "      <td>False</td>\n",
       "      <td>False</td>\n",
       "      <td>False</td>\n",
       "      <td>False</td>\n",
       "      <td>False</td>\n",
       "      <td>False</td>\n",
       "      <td>False</td>\n",
       "      <td>False</td>\n",
       "      <td>False</td>\n",
       "      <td>...</td>\n",
       "      <td>False</td>\n",
       "      <td>False</td>\n",
       "      <td>False</td>\n",
       "      <td>False</td>\n",
       "      <td>False</td>\n",
       "      <td>False</td>\n",
       "      <td>False</td>\n",
       "      <td>False</td>\n",
       "      <td>False</td>\n",
       "      <td>False</td>\n",
       "    </tr>\n",
       "    <tr>\n",
       "      <th>...</th>\n",
       "      <td>...</td>\n",
       "      <td>...</td>\n",
       "      <td>...</td>\n",
       "      <td>...</td>\n",
       "      <td>...</td>\n",
       "      <td>...</td>\n",
       "      <td>...</td>\n",
       "      <td>...</td>\n",
       "      <td>...</td>\n",
       "      <td>...</td>\n",
       "      <td>...</td>\n",
       "      <td>...</td>\n",
       "      <td>...</td>\n",
       "      <td>...</td>\n",
       "      <td>...</td>\n",
       "      <td>...</td>\n",
       "      <td>...</td>\n",
       "      <td>...</td>\n",
       "      <td>...</td>\n",
       "      <td>...</td>\n",
       "      <td>...</td>\n",
       "    </tr>\n",
       "    <tr>\n",
       "      <th>3658</th>\n",
       "      <td>False</td>\n",
       "      <td>False</td>\n",
       "      <td>False</td>\n",
       "      <td>False</td>\n",
       "      <td>False</td>\n",
       "      <td>False</td>\n",
       "      <td>True</td>\n",
       "      <td>False</td>\n",
       "      <td>False</td>\n",
       "      <td>False</td>\n",
       "      <td>...</td>\n",
       "      <td>False</td>\n",
       "      <td>False</td>\n",
       "      <td>False</td>\n",
       "      <td>False</td>\n",
       "      <td>False</td>\n",
       "      <td>False</td>\n",
       "      <td>False</td>\n",
       "      <td>False</td>\n",
       "      <td>False</td>\n",
       "      <td>False</td>\n",
       "    </tr>\n",
       "    <tr>\n",
       "      <th>3659</th>\n",
       "      <td>False</td>\n",
       "      <td>False</td>\n",
       "      <td>False</td>\n",
       "      <td>False</td>\n",
       "      <td>False</td>\n",
       "      <td>False</td>\n",
       "      <td>False</td>\n",
       "      <td>False</td>\n",
       "      <td>False</td>\n",
       "      <td>False</td>\n",
       "      <td>...</td>\n",
       "      <td>False</td>\n",
       "      <td>False</td>\n",
       "      <td>False</td>\n",
       "      <td>False</td>\n",
       "      <td>False</td>\n",
       "      <td>False</td>\n",
       "      <td>False</td>\n",
       "      <td>False</td>\n",
       "      <td>False</td>\n",
       "      <td>False</td>\n",
       "    </tr>\n",
       "    <tr>\n",
       "      <th>3660</th>\n",
       "      <td>False</td>\n",
       "      <td>False</td>\n",
       "      <td>False</td>\n",
       "      <td>False</td>\n",
       "      <td>False</td>\n",
       "      <td>False</td>\n",
       "      <td>False</td>\n",
       "      <td>False</td>\n",
       "      <td>False</td>\n",
       "      <td>False</td>\n",
       "      <td>...</td>\n",
       "      <td>False</td>\n",
       "      <td>False</td>\n",
       "      <td>False</td>\n",
       "      <td>False</td>\n",
       "      <td>False</td>\n",
       "      <td>False</td>\n",
       "      <td>False</td>\n",
       "      <td>False</td>\n",
       "      <td>False</td>\n",
       "      <td>False</td>\n",
       "    </tr>\n",
       "    <tr>\n",
       "      <th>3661</th>\n",
       "      <td>False</td>\n",
       "      <td>False</td>\n",
       "      <td>False</td>\n",
       "      <td>False</td>\n",
       "      <td>False</td>\n",
       "      <td>False</td>\n",
       "      <td>False</td>\n",
       "      <td>True</td>\n",
       "      <td>True</td>\n",
       "      <td>False</td>\n",
       "      <td>...</td>\n",
       "      <td>False</td>\n",
       "      <td>False</td>\n",
       "      <td>False</td>\n",
       "      <td>False</td>\n",
       "      <td>False</td>\n",
       "      <td>False</td>\n",
       "      <td>False</td>\n",
       "      <td>False</td>\n",
       "      <td>True</td>\n",
       "      <td>False</td>\n",
       "    </tr>\n",
       "    <tr>\n",
       "      <th>3662</th>\n",
       "      <td>False</td>\n",
       "      <td>False</td>\n",
       "      <td>False</td>\n",
       "      <td>False</td>\n",
       "      <td>False</td>\n",
       "      <td>False</td>\n",
       "      <td>False</td>\n",
       "      <td>False</td>\n",
       "      <td>False</td>\n",
       "      <td>False</td>\n",
       "      <td>...</td>\n",
       "      <td>False</td>\n",
       "      <td>False</td>\n",
       "      <td>False</td>\n",
       "      <td>False</td>\n",
       "      <td>False</td>\n",
       "      <td>False</td>\n",
       "      <td>False</td>\n",
       "      <td>False</td>\n",
       "      <td>False</td>\n",
       "      <td>False</td>\n",
       "    </tr>\n",
       "  </tbody>\n",
       "</table>\n",
       "<p>3663 rows × 24 columns</p>\n",
       "</div>"
      ],
      "text/plain": [
       "      grade   male  raceeth  preschool  expectBachelors  motherHS  \\\n",
       "0     False  False     True       True            False      True   \n",
       "1     False  False    False      False            False     False   \n",
       "2     False  False    False      False            False     False   \n",
       "3     False  False    False      False            False     False   \n",
       "4     False  False    False      False            False     False   \n",
       "...     ...    ...      ...        ...              ...       ...   \n",
       "3658  False  False    False      False            False     False   \n",
       "3659  False  False    False      False            False     False   \n",
       "3660  False  False    False      False            False     False   \n",
       "3661  False  False    False      False            False     False   \n",
       "3662  False  False    False      False            False     False   \n",
       "\n",
       "      motherBachelors  motherWork  fatherHS  fatherBachelors  ...  \\\n",
       "0                True       False      True             True  ...   \n",
       "1               False       False     False            False  ...   \n",
       "2               False       False     False             True  ...   \n",
       "3               False       False     False            False  ...   \n",
       "4               False       False     False            False  ...   \n",
       "...               ...         ...       ...              ...  ...   \n",
       "3658             True       False     False            False  ...   \n",
       "3659            False       False     False            False  ...   \n",
       "3660            False       False     False            False  ...   \n",
       "3661            False        True      True            False  ...   \n",
       "3662            False       False     False            False  ...   \n",
       "\n",
       "      englishAtHome  computerForSchoolwork  read30MinsADay  \\\n",
       "0             False                  False           False   \n",
       "1             False                  False           False   \n",
       "2             False                  False           False   \n",
       "3             False                  False           False   \n",
       "4             False                  False           False   \n",
       "...             ...                    ...             ...   \n",
       "3658          False                  False           False   \n",
       "3659          False                  False           False   \n",
       "3660          False                  False           False   \n",
       "3661          False                  False           False   \n",
       "3662          False                  False           False   \n",
       "\n",
       "      minutesPerWeekEnglish  studentsInEnglish  schoolHasLibrary  \\\n",
       "0                     False               True             False   \n",
       "1                     False              False             False   \n",
       "2                     False              False             False   \n",
       "3                     False              False             False   \n",
       "4                     False              False             False   \n",
       "...                     ...                ...               ...   \n",
       "3658                  False              False             False   \n",
       "3659                  False              False             False   \n",
       "3660                  False              False             False   \n",
       "3661                  False              False             False   \n",
       "3662                  False              False             False   \n",
       "\n",
       "      publicSchool  urban  schoolSize  readingScore  \n",
       "0            False  False       False         False  \n",
       "1            False  False       False         False  \n",
       "2            False  False       False         False  \n",
       "3            False  False       False         False  \n",
       "4            False  False       False         False  \n",
       "...            ...    ...         ...           ...  \n",
       "3658         False  False       False         False  \n",
       "3659         False  False       False         False  \n",
       "3660         False  False       False         False  \n",
       "3661         False  False        True         False  \n",
       "3662         False  False       False         False  \n",
       "\n",
       "[3663 rows x 24 columns]"
      ]
     },
     "execution_count": 148,
     "metadata": {},
     "output_type": "execute_result"
    }
   ],
   "source": [
    "pisaTrain.isna()"
   ]
  },
  {
   "cell_type": "code",
   "execution_count": 149,
   "metadata": {},
   "outputs": [
    {
     "data": {
      "text/plain": [
       "Index(['raceeth', 'preschool', 'expectBachelors', 'motherHS',\n",
       "       'motherBachelors', 'motherWork', 'fatherHS', 'fatherBachelors',\n",
       "       'fatherWork', 'selfBornUS', 'motherBornUS', 'fatherBornUS',\n",
       "       'englishAtHome', 'computerForSchoolwork', 'read30MinsADay',\n",
       "       'minutesPerWeekEnglish', 'studentsInEnglish', 'schoolHasLibrary',\n",
       "       'schoolSize'],\n",
       "      dtype='object')"
      ]
     },
     "execution_count": 149,
     "metadata": {},
     "output_type": "execute_result"
    }
   ],
   "source": [
    "# Problem 1.3 - Locating missing values\n",
    "# Which variables are missing data in at least one observation in the training set? Select all that apply.\n",
    "pisaTrain.columns[pisaTrain.isnull().any()]"
   ]
  },
  {
   "cell_type": "code",
   "execution_count": 150,
   "metadata": {},
   "outputs": [],
   "source": [
    "# Problem 1.4 - Removing missing values\n",
    "# Linear regression discards observations with missing data, so we will remove all such observations from the training and \\\n",
    "# testing sets.\n",
    "pisaTrain =  pisaTrain.dropna(how='any',axis=0)\n",
    "pisaTest =  pisaTest.dropna(how='any',axis=0)"
   ]
  },
  {
   "cell_type": "code",
   "execution_count": 151,
   "metadata": {},
   "outputs": [
    {
     "name": "stdout",
     "output_type": "stream",
     "text": [
      "<class 'pandas.core.frame.DataFrame'>\n",
      "Int64Index: 2414 entries, 1 to 3662\n",
      "Data columns (total 24 columns):\n",
      " #   Column                 Non-Null Count  Dtype  \n",
      "---  ------                 --------------  -----  \n",
      " 0   grade                  2414 non-null   int64  \n",
      " 1   male                   2414 non-null   int64  \n",
      " 2   raceeth                2414 non-null   object \n",
      " 3   preschool              2414 non-null   float64\n",
      " 4   expectBachelors        2414 non-null   float64\n",
      " 5   motherHS               2414 non-null   float64\n",
      " 6   motherBachelors        2414 non-null   float64\n",
      " 7   motherWork             2414 non-null   float64\n",
      " 8   fatherHS               2414 non-null   float64\n",
      " 9   fatherBachelors        2414 non-null   float64\n",
      " 10  fatherWork             2414 non-null   float64\n",
      " 11  selfBornUS             2414 non-null   float64\n",
      " 12  motherBornUS           2414 non-null   float64\n",
      " 13  fatherBornUS           2414 non-null   float64\n",
      " 14  englishAtHome          2414 non-null   float64\n",
      " 15  computerForSchoolwork  2414 non-null   float64\n",
      " 16  read30MinsADay         2414 non-null   float64\n",
      " 17  minutesPerWeekEnglish  2414 non-null   float64\n",
      " 18  studentsInEnglish      2414 non-null   float64\n",
      " 19  schoolHasLibrary       2414 non-null   float64\n",
      " 20  publicSchool           2414 non-null   int64  \n",
      " 21  urban                  2414 non-null   int64  \n",
      " 22  schoolSize             2414 non-null   float64\n",
      " 23  readingScore           2414 non-null   float64\n",
      "dtypes: float64(19), int64(4), object(1)\n",
      "memory usage: 471.5+ KB\n"
     ]
    }
   ],
   "source": [
    "# How many observations are now in the training set?\n",
    "pisaTrain.info()"
   ]
  },
  {
   "cell_type": "code",
   "execution_count": 152,
   "metadata": {},
   "outputs": [
    {
     "name": "stdout",
     "output_type": "stream",
     "text": [
      "<class 'pandas.core.frame.DataFrame'>\n",
      "Int64Index: 990 entries, 0 to 1569\n",
      "Data columns (total 24 columns):\n",
      " #   Column                 Non-Null Count  Dtype  \n",
      "---  ------                 --------------  -----  \n",
      " 0   grade                  990 non-null    int64  \n",
      " 1   male                   990 non-null    int64  \n",
      " 2   raceeth                990 non-null    object \n",
      " 3   preschool              990 non-null    float64\n",
      " 4   expectBachelors        990 non-null    float64\n",
      " 5   motherHS               990 non-null    float64\n",
      " 6   motherBachelors        990 non-null    float64\n",
      " 7   motherWork             990 non-null    float64\n",
      " 8   fatherHS               990 non-null    float64\n",
      " 9   fatherBachelors        990 non-null    float64\n",
      " 10  fatherWork             990 non-null    float64\n",
      " 11  selfBornUS             990 non-null    float64\n",
      " 12  motherBornUS           990 non-null    float64\n",
      " 13  fatherBornUS           990 non-null    float64\n",
      " 14  englishAtHome          990 non-null    float64\n",
      " 15  computerForSchoolwork  990 non-null    float64\n",
      " 16  read30MinsADay         990 non-null    float64\n",
      " 17  minutesPerWeekEnglish  990 non-null    float64\n",
      " 18  studentsInEnglish      990 non-null    float64\n",
      " 19  schoolHasLibrary       990 non-null    float64\n",
      " 20  publicSchool           990 non-null    int64  \n",
      " 21  urban                  990 non-null    int64  \n",
      " 22  schoolSize             990 non-null    float64\n",
      " 23  readingScore           990 non-null    float64\n",
      "dtypes: float64(19), int64(4), object(1)\n",
      "memory usage: 193.4+ KB\n"
     ]
    }
   ],
   "source": [
    "# How many observations are now in the test set?\n",
    "\n",
    "pisaTest.info()"
   ]
  },
  {
   "cell_type": "code",
   "execution_count": 129,
   "metadata": {},
   "outputs": [],
   "source": [
    "#dummies_test = pd.get_dummies(pisaTest[\"raceeth\"], drop_first=True)"
   ]
  },
  {
   "cell_type": "code",
   "execution_count": 130,
   "metadata": {},
   "outputs": [],
   "source": [
    "# pisaTest = pd.concat([pisaTest, dummies_test], axis=1)"
   ]
  },
  {
   "cell_type": "code",
   "execution_count": 131,
   "metadata": {},
   "outputs": [
    {
     "name": "stdout",
     "output_type": "stream",
     "text": [
      "<class 'pandas.core.frame.DataFrame'>\n",
      "Int64Index: 990 entries, 0 to 1569\n",
      "Data columns (total 30 columns):\n",
      " #   Column                                  Non-Null Count  Dtype  \n",
      "---  ------                                  --------------  -----  \n",
      " 0   grade                                   990 non-null    int64  \n",
      " 1   male                                    990 non-null    int64  \n",
      " 2   raceeth                                 990 non-null    object \n",
      " 3   preschool                               990 non-null    float64\n",
      " 4   expectBachelors                         990 non-null    float64\n",
      " 5   motherHS                                990 non-null    float64\n",
      " 6   motherBachelors                         990 non-null    float64\n",
      " 7   motherWork                              990 non-null    float64\n",
      " 8   fatherHS                                990 non-null    float64\n",
      " 9   fatherBachelors                         990 non-null    float64\n",
      " 10  fatherWork                              990 non-null    float64\n",
      " 11  selfBornUS                              990 non-null    float64\n",
      " 12  motherBornUS                            990 non-null    float64\n",
      " 13  fatherBornUS                            990 non-null    float64\n",
      " 14  englishAtHome                           990 non-null    float64\n",
      " 15  computerForSchoolwork                   990 non-null    float64\n",
      " 16  read30MinsADay                          990 non-null    float64\n",
      " 17  minutesPerWeekEnglish                   990 non-null    float64\n",
      " 18  studentsInEnglish                       990 non-null    float64\n",
      " 19  schoolHasLibrary                        990 non-null    float64\n",
      " 20  publicSchool                            990 non-null    int64  \n",
      " 21  urban                                   990 non-null    int64  \n",
      " 22  schoolSize                              990 non-null    float64\n",
      " 23  readingScore                            990 non-null    float64\n",
      " 24  Asian                                   990 non-null    uint8  \n",
      " 25  Black                                   990 non-null    uint8  \n",
      " 26  Hispanic                                990 non-null    uint8  \n",
      " 27  More than one race                      990 non-null    uint8  \n",
      " 28  Native Hawaiian/Other Pacific Islander  990 non-null    uint8  \n",
      " 29  White                                   990 non-null    uint8  \n",
      "dtypes: float64(19), int64(4), object(1), uint8(6)\n",
      "memory usage: 199.2+ KB\n"
     ]
    }
   ],
   "source": [
    "# pisaTest.info()"
   ]
  },
  {
   "cell_type": "code",
   "execution_count": 132,
   "metadata": {},
   "outputs": [],
   "source": [
    "#pisaTest.drop([\"White\"],axis=1,inplace=True)"
   ]
  },
  {
   "cell_type": "code",
   "execution_count": 133,
   "metadata": {},
   "outputs": [
    {
     "name": "stdout",
     "output_type": "stream",
     "text": [
      "<class 'pandas.core.frame.DataFrame'>\n",
      "Int64Index: 990 entries, 0 to 1569\n",
      "Data columns (total 29 columns):\n",
      " #   Column                                  Non-Null Count  Dtype  \n",
      "---  ------                                  --------------  -----  \n",
      " 0   grade                                   990 non-null    int64  \n",
      " 1   male                                    990 non-null    int64  \n",
      " 2   raceeth                                 990 non-null    object \n",
      " 3   preschool                               990 non-null    float64\n",
      " 4   expectBachelors                         990 non-null    float64\n",
      " 5   motherHS                                990 non-null    float64\n",
      " 6   motherBachelors                         990 non-null    float64\n",
      " 7   motherWork                              990 non-null    float64\n",
      " 8   fatherHS                                990 non-null    float64\n",
      " 9   fatherBachelors                         990 non-null    float64\n",
      " 10  fatherWork                              990 non-null    float64\n",
      " 11  selfBornUS                              990 non-null    float64\n",
      " 12  motherBornUS                            990 non-null    float64\n",
      " 13  fatherBornUS                            990 non-null    float64\n",
      " 14  englishAtHome                           990 non-null    float64\n",
      " 15  computerForSchoolwork                   990 non-null    float64\n",
      " 16  read30MinsADay                          990 non-null    float64\n",
      " 17  minutesPerWeekEnglish                   990 non-null    float64\n",
      " 18  studentsInEnglish                       990 non-null    float64\n",
      " 19  schoolHasLibrary                        990 non-null    float64\n",
      " 20  publicSchool                            990 non-null    int64  \n",
      " 21  urban                                   990 non-null    int64  \n",
      " 22  schoolSize                              990 non-null    float64\n",
      " 23  readingScore                            990 non-null    float64\n",
      " 24  Asian                                   990 non-null    uint8  \n",
      " 25  Black                                   990 non-null    uint8  \n",
      " 26  Hispanic                                990 non-null    uint8  \n",
      " 27  More than one race                      990 non-null    uint8  \n",
      " 28  Native Hawaiian/Other Pacific Islander  990 non-null    uint8  \n",
      "dtypes: float64(19), int64(4), object(1), uint8(5)\n",
      "memory usage: 198.2+ KB\n"
     ]
    }
   ],
   "source": [
    "#pisaTest.info()"
   ]
  },
  {
   "cell_type": "code",
   "execution_count": 153,
   "metadata": {},
   "outputs": [],
   "source": [
    "# Problem 3.1 - Building a model\n",
    "# What is the Multiple R-squared value of lmScore on the training set?\n",
    "\n",
    "# There are two ways to use categorical variable \"raceeth\" for building linear regression model. \\\n",
    "# Option 1: Create dummy variables using method pd.get_dummies to create formula.\n",
    "# Option 2: This is more clean approach where create formula with indicating raceeth as categorical variable eg C(raceeth)\n",
    "# Reference: https://stackoverflow.com/questions/34007308/linear-regression-analysis-with-string-categorical-features-variables\n",
    "\n",
    "\n",
    "#Option 1:\n",
    "#dummies_train = pd.get_dummies(pisaTrain[\"raceeth\"], drop_first=True)\n",
    "#pisaTrain = pd.concat([pisaTrain,dummies_train],axis=1)\n",
    "#pisaTrain.drop([\"White\"], axis=1,inplace=True)\n",
    "\n",
    "# since we are using R style formula for ols model from smf, we need to have a string with all column names excluding \\ \n",
    "# dependent variable(readingScore) and categorical variable(raceeth). raceeth variable is treated via option 1 or 2 and will be \n",
    "# added to formula.\n",
    "all_columns = \" + \".join(pisaTrain.columns.difference([\"readingScore\",\"raceeth\"]))"
   ]
  },
  {
   "cell_type": "code",
   "execution_count": 154,
   "metadata": {},
   "outputs": [
    {
     "data": {
      "text/plain": [
       "'readingScore ~ C(raceeth) + computerForSchoolwork + englishAtHome + expectBachelors + fatherBachelors + fatherBornUS + fatherHS + fatherWork + grade + male + minutesPerWeekEnglish + motherBachelors + motherBornUS + motherHS + motherWork + preschool + publicSchool + read30MinsADay + schoolHasLibrary + schoolSize + selfBornUS + studentsInEnglish + urban'"
      ]
     },
     "execution_count": 154,
     "metadata": {},
     "output_type": "execute_result"
    }
   ],
   "source": [
    "#Option 2\n",
    "test_formula = \"readingScore ~ \" + \"C(raceeth) + \" + all_columns"
   ]
  },
  {
   "cell_type": "code",
   "execution_count": 166,
   "metadata": {},
   "outputs": [],
   "source": [
    "regTrain = smf.ols(formula=test_formula, data=pisaTrain).fit()"
   ]
  },
  {
   "cell_type": "code",
   "execution_count": 167,
   "metadata": {},
   "outputs": [
    {
     "data": {
      "text/html": [
       "<table class=\"simpletable\">\n",
       "<caption>OLS Regression Results</caption>\n",
       "<tr>\n",
       "  <th>Dep. Variable:</th>      <td>readingScore</td>   <th>  R-squared:         </th> <td>   0.325</td> \n",
       "</tr>\n",
       "<tr>\n",
       "  <th>Model:</th>                   <td>OLS</td>       <th>  Adj. R-squared:    </th> <td>   0.317</td> \n",
       "</tr>\n",
       "<tr>\n",
       "  <th>Method:</th>             <td>Least Squares</td>  <th>  F-statistic:       </th> <td>   41.04</td> \n",
       "</tr>\n",
       "<tr>\n",
       "  <th>Date:</th>             <td>Mon, 05 Oct 2020</td> <th>  Prob (F-statistic):</th> <td>1.72e-180</td>\n",
       "</tr>\n",
       "<tr>\n",
       "  <th>Time:</th>                 <td>07:14:18</td>     <th>  Log-Likelihood:    </th> <td> -13795.</td> \n",
       "</tr>\n",
       "<tr>\n",
       "  <th>No. Observations:</th>      <td>  2414</td>      <th>  AIC:               </th> <td>2.765e+04</td>\n",
       "</tr>\n",
       "<tr>\n",
       "  <th>Df Residuals:</th>          <td>  2385</td>      <th>  BIC:               </th> <td>2.781e+04</td>\n",
       "</tr>\n",
       "<tr>\n",
       "  <th>Df Model:</th>              <td>    28</td>      <th>                     </th>     <td> </td>    \n",
       "</tr>\n",
       "<tr>\n",
       "  <th>Covariance Type:</th>      <td>nonrobust</td>    <th>                     </th>     <td> </td>    \n",
       "</tr>\n",
       "</table>\n",
       "<table class=\"simpletable\">\n",
       "<tr>\n",
       "                            <td></td>                              <th>coef</th>     <th>std err</th>      <th>t</th>      <th>P>|t|</th>  <th>[0.025</th>    <th>0.975]</th>  \n",
       "</tr>\n",
       "<tr>\n",
       "  <th>Intercept</th>                                            <td>   76.4890</td> <td>   37.303</td> <td>    2.050</td> <td> 0.040</td> <td>    3.340</td> <td>  149.638</td>\n",
       "</tr>\n",
       "<tr>\n",
       "  <th>C(raceeth)[T.Asian]</th>                                  <td>   63.1670</td> <td>   18.973</td> <td>    3.329</td> <td> 0.001</td> <td>   25.962</td> <td>  100.372</td>\n",
       "</tr>\n",
       "<tr>\n",
       "  <th>C(raceeth)[T.Black]</th>                                  <td>    0.2650</td> <td>   17.370</td> <td>    0.015</td> <td> 0.988</td> <td>  -33.796</td> <td>   34.326</td>\n",
       "</tr>\n",
       "<tr>\n",
       "  <th>C(raceeth)[T.Hispanic]</th>                               <td>   28.3018</td> <td>   17.259</td> <td>    1.640</td> <td> 0.101</td> <td>   -5.542</td> <td>   62.146</td>\n",
       "</tr>\n",
       "<tr>\n",
       "  <th>C(raceeth)[T.More than one race]</th>                     <td>   50.3548</td> <td>   18.570</td> <td>    2.712</td> <td> 0.007</td> <td>   13.940</td> <td>   86.770</td>\n",
       "</tr>\n",
       "<tr>\n",
       "  <th>C(raceeth)[T.Native Hawaiian/Other Pacific Islander]</th> <td>   62.1757</td> <td>   23.783</td> <td>    2.614</td> <td> 0.009</td> <td>   15.539</td> <td>  108.813</td>\n",
       "</tr>\n",
       "<tr>\n",
       "  <th>C(raceeth)[T.White]</th>                                  <td>   67.2773</td> <td>   16.787</td> <td>    4.008</td> <td> 0.000</td> <td>   34.359</td> <td>  100.196</td>\n",
       "</tr>\n",
       "<tr>\n",
       "  <th>computerForSchoolwork</th>                                <td>   22.5002</td> <td>    5.703</td> <td>    3.946</td> <td> 0.000</td> <td>   11.318</td> <td>   33.683</td>\n",
       "</tr>\n",
       "<tr>\n",
       "  <th>englishAtHome</th>                                        <td>    8.0357</td> <td>    6.859</td> <td>    1.171</td> <td> 0.242</td> <td>   -5.415</td> <td>   21.487</td>\n",
       "</tr>\n",
       "<tr>\n",
       "  <th>expectBachelors</th>                                      <td>   55.2671</td> <td>    4.294</td> <td>   12.871</td> <td> 0.000</td> <td>   46.847</td> <td>   63.687</td>\n",
       "</tr>\n",
       "<tr>\n",
       "  <th>fatherBachelors</th>                                      <td>   16.9298</td> <td>    3.995</td> <td>    4.237</td> <td> 0.000</td> <td>    9.095</td> <td>   24.764</td>\n",
       "</tr>\n",
       "<tr>\n",
       "  <th>fatherBornUS</th>                                         <td>    4.3070</td> <td>    6.264</td> <td>    0.688</td> <td> 0.492</td> <td>   -7.976</td> <td>   16.590</td>\n",
       "</tr>\n",
       "<tr>\n",
       "  <th>fatherHS</th>                                             <td>    4.0182</td> <td>    5.579</td> <td>    0.720</td> <td> 0.471</td> <td>   -6.923</td> <td>   14.959</td>\n",
       "</tr>\n",
       "<tr>\n",
       "  <th>fatherWork</th>                                           <td>    5.8428</td> <td>    4.396</td> <td>    1.329</td> <td> 0.184</td> <td>   -2.778</td> <td>   14.463</td>\n",
       "</tr>\n",
       "<tr>\n",
       "  <th>grade</th>                                                <td>   29.5427</td> <td>    2.937</td> <td>   10.057</td> <td> 0.000</td> <td>   23.783</td> <td>   35.303</td>\n",
       "</tr>\n",
       "<tr>\n",
       "  <th>male</th>                                                 <td>  -14.5217</td> <td>    3.156</td> <td>   -4.601</td> <td> 0.000</td> <td>  -20.710</td> <td>   -8.333</td>\n",
       "</tr>\n",
       "<tr>\n",
       "  <th>minutesPerWeekEnglish</th>                                <td>    0.0128</td> <td>    0.011</td> <td>    1.194</td> <td> 0.233</td> <td>   -0.008</td> <td>    0.034</td>\n",
       "</tr>\n",
       "<tr>\n",
       "  <th>motherBachelors</th>                                      <td>   12.6381</td> <td>    3.861</td> <td>    3.273</td> <td> 0.001</td> <td>    5.066</td> <td>   20.210</td>\n",
       "</tr>\n",
       "<tr>\n",
       "  <th>motherBornUS</th>                                         <td>   -8.7982</td> <td>    6.588</td> <td>   -1.336</td> <td> 0.182</td> <td>  -21.716</td> <td>    4.120</td>\n",
       "</tr>\n",
       "<tr>\n",
       "  <th>motherHS</th>                                             <td>    6.0588</td> <td>    6.091</td> <td>    0.995</td> <td> 0.320</td> <td>   -5.886</td> <td>   18.004</td>\n",
       "</tr>\n",
       "<tr>\n",
       "  <th>motherWork</th>                                           <td>   -2.8091</td> <td>    3.522</td> <td>   -0.798</td> <td> 0.425</td> <td>   -9.715</td> <td>    4.097</td>\n",
       "</tr>\n",
       "<tr>\n",
       "  <th>preschool</th>                                            <td>   -4.4637</td> <td>    3.486</td> <td>   -1.280</td> <td> 0.201</td> <td>  -11.300</td> <td>    2.372</td>\n",
       "</tr>\n",
       "<tr>\n",
       "  <th>publicSchool</th>                                         <td>  -16.8575</td> <td>    6.726</td> <td>   -2.506</td> <td> 0.012</td> <td>  -30.046</td> <td>   -3.669</td>\n",
       "</tr>\n",
       "<tr>\n",
       "  <th>read30MinsADay</th>                                       <td>   34.8719</td> <td>    3.408</td> <td>   10.231</td> <td> 0.000</td> <td>   28.188</td> <td>   41.556</td>\n",
       "</tr>\n",
       "<tr>\n",
       "  <th>schoolHasLibrary</th>                                     <td>   12.2151</td> <td>    9.265</td> <td>    1.318</td> <td> 0.187</td> <td>   -5.953</td> <td>   30.383</td>\n",
       "</tr>\n",
       "<tr>\n",
       "  <th>schoolSize</th>                                           <td>    0.0065</td> <td>    0.002</td> <td>    2.977</td> <td> 0.003</td> <td>    0.002</td> <td>    0.011</td>\n",
       "</tr>\n",
       "<tr>\n",
       "  <th>selfBornUS</th>                                           <td>   -3.8063</td> <td>    7.324</td> <td>   -0.520</td> <td> 0.603</td> <td>  -18.168</td> <td>   10.555</td>\n",
       "</tr>\n",
       "<tr>\n",
       "  <th>studentsInEnglish</th>                                    <td>   -0.2866</td> <td>    0.228</td> <td>   -1.258</td> <td> 0.208</td> <td>   -0.733</td> <td>    0.160</td>\n",
       "</tr>\n",
       "<tr>\n",
       "  <th>urban</th>                                                <td>   -0.1101</td> <td>    3.963</td> <td>   -0.028</td> <td> 0.978</td> <td>   -7.881</td> <td>    7.661</td>\n",
       "</tr>\n",
       "</table>\n",
       "<table class=\"simpletable\">\n",
       "<tr>\n",
       "  <th>Omnibus:</th>       <td> 8.273</td> <th>  Durbin-Watson:     </th> <td>   1.998</td>\n",
       "</tr>\n",
       "<tr>\n",
       "  <th>Prob(Omnibus):</th> <td> 0.016</td> <th>  Jarque-Bera (JB):  </th> <td>   8.362</td>\n",
       "</tr>\n",
       "<tr>\n",
       "  <th>Skew:</th>          <td>-0.141</td> <th>  Prob(JB):          </th> <td>  0.0153</td>\n",
       "</tr>\n",
       "<tr>\n",
       "  <th>Kurtosis:</th>      <td> 2.943</td> <th>  Cond. No.          </th> <td>5.17e+04</td>\n",
       "</tr>\n",
       "</table><br/><br/>Notes:<br/>[1] Standard Errors assume that the covariance matrix of the errors is correctly specified.<br/>[2] The condition number is large, 5.17e+04. This might indicate that there are<br/>strong multicollinearity or other numerical problems."
      ],
      "text/plain": [
       "<class 'statsmodels.iolib.summary.Summary'>\n",
       "\"\"\"\n",
       "                            OLS Regression Results                            \n",
       "==============================================================================\n",
       "Dep. Variable:           readingScore   R-squared:                       0.325\n",
       "Model:                            OLS   Adj. R-squared:                  0.317\n",
       "Method:                 Least Squares   F-statistic:                     41.04\n",
       "Date:                Mon, 05 Oct 2020   Prob (F-statistic):          1.72e-180\n",
       "Time:                        07:14:18   Log-Likelihood:                -13795.\n",
       "No. Observations:                2414   AIC:                         2.765e+04\n",
       "Df Residuals:                    2385   BIC:                         2.781e+04\n",
       "Df Model:                          28                                         \n",
       "Covariance Type:            nonrobust                                         \n",
       "========================================================================================================================\n",
       "                                                           coef    std err          t      P>|t|      [0.025      0.975]\n",
       "------------------------------------------------------------------------------------------------------------------------\n",
       "Intercept                                               76.4890     37.303      2.050      0.040       3.340     149.638\n",
       "C(raceeth)[T.Asian]                                     63.1670     18.973      3.329      0.001      25.962     100.372\n",
       "C(raceeth)[T.Black]                                      0.2650     17.370      0.015      0.988     -33.796      34.326\n",
       "C(raceeth)[T.Hispanic]                                  28.3018     17.259      1.640      0.101      -5.542      62.146\n",
       "C(raceeth)[T.More than one race]                        50.3548     18.570      2.712      0.007      13.940      86.770\n",
       "C(raceeth)[T.Native Hawaiian/Other Pacific Islander]    62.1757     23.783      2.614      0.009      15.539     108.813\n",
       "C(raceeth)[T.White]                                     67.2773     16.787      4.008      0.000      34.359     100.196\n",
       "computerForSchoolwork                                   22.5002      5.703      3.946      0.000      11.318      33.683\n",
       "englishAtHome                                            8.0357      6.859      1.171      0.242      -5.415      21.487\n",
       "expectBachelors                                         55.2671      4.294     12.871      0.000      46.847      63.687\n",
       "fatherBachelors                                         16.9298      3.995      4.237      0.000       9.095      24.764\n",
       "fatherBornUS                                             4.3070      6.264      0.688      0.492      -7.976      16.590\n",
       "fatherHS                                                 4.0182      5.579      0.720      0.471      -6.923      14.959\n",
       "fatherWork                                               5.8428      4.396      1.329      0.184      -2.778      14.463\n",
       "grade                                                   29.5427      2.937     10.057      0.000      23.783      35.303\n",
       "male                                                   -14.5217      3.156     -4.601      0.000     -20.710      -8.333\n",
       "minutesPerWeekEnglish                                    0.0128      0.011      1.194      0.233      -0.008       0.034\n",
       "motherBachelors                                         12.6381      3.861      3.273      0.001       5.066      20.210\n",
       "motherBornUS                                            -8.7982      6.588     -1.336      0.182     -21.716       4.120\n",
       "motherHS                                                 6.0588      6.091      0.995      0.320      -5.886      18.004\n",
       "motherWork                                              -2.8091      3.522     -0.798      0.425      -9.715       4.097\n",
       "preschool                                               -4.4637      3.486     -1.280      0.201     -11.300       2.372\n",
       "publicSchool                                           -16.8575      6.726     -2.506      0.012     -30.046      -3.669\n",
       "read30MinsADay                                          34.8719      3.408     10.231      0.000      28.188      41.556\n",
       "schoolHasLibrary                                        12.2151      9.265      1.318      0.187      -5.953      30.383\n",
       "schoolSize                                               0.0065      0.002      2.977      0.003       0.002       0.011\n",
       "selfBornUS                                              -3.8063      7.324     -0.520      0.603     -18.168      10.555\n",
       "studentsInEnglish                                       -0.2866      0.228     -1.258      0.208      -0.733       0.160\n",
       "urban                                                   -0.1101      3.963     -0.028      0.978      -7.881       7.661\n",
       "==============================================================================\n",
       "Omnibus:                        8.273   Durbin-Watson:                   1.998\n",
       "Prob(Omnibus):                  0.016   Jarque-Bera (JB):                8.362\n",
       "Skew:                          -0.141   Prob(JB):                       0.0153\n",
       "Kurtosis:                       2.943   Cond. No.                     5.17e+04\n",
       "==============================================================================\n",
       "\n",
       "Notes:\n",
       "[1] Standard Errors assume that the covariance matrix of the errors is correctly specified.\n",
       "[2] The condition number is large, 5.17e+04. This might indicate that there are\n",
       "strong multicollinearity or other numerical problems.\n",
       "\"\"\""
      ]
     },
     "execution_count": 167,
     "metadata": {},
     "output_type": "execute_result"
    }
   ],
   "source": [
    "regTrain.summary()"
   ]
  },
  {
   "cell_type": "code",
   "execution_count": 168,
   "metadata": {},
   "outputs": [
    {
     "data": {
      "text/plain": [
       "1        36.317872\n",
       "3       -37.516051\n",
       "4       177.011875\n",
       "7      -126.773978\n",
       "9       -34.739739\n",
       "           ...    \n",
       "3655     85.681337\n",
       "3657     -2.694060\n",
       "3659     -3.089905\n",
       "3660      7.977105\n",
       "3662     -5.513369\n",
       "Length: 2414, dtype: float64"
      ]
     },
     "execution_count": 168,
     "metadata": {},
     "output_type": "execute_result"
    }
   ],
   "source": [
    "regTrain.resid"
   ]
  },
  {
   "cell_type": "code",
   "execution_count": 169,
   "metadata": {},
   "outputs": [],
   "source": [
    "SSE_train = sum(regTrain.resid ** 2)"
   ]
  },
  {
   "cell_type": "code",
   "execution_count": 170,
   "metadata": {},
   "outputs": [
    {
     "data": {
      "text/plain": [
       "12993364.986877073"
      ]
     },
     "execution_count": 170,
     "metadata": {},
     "output_type": "execute_result"
    }
   ],
   "source": [
    "SSE_train"
   ]
  },
  {
   "cell_type": "code",
   "execution_count": 173,
   "metadata": {},
   "outputs": [],
   "source": [
    "# Problem 3.2 - Computing the root-mean squared error of the model\n",
    "# What is the training-set root-mean squared error (RMSE) of lmScore?\n",
    "RMSE_train = (SSE_train / len(pisaTrain)) ** (1/2)"
   ]
  },
  {
   "cell_type": "code",
   "execution_count": 175,
   "metadata": {},
   "outputs": [
    {
     "data": {
      "text/plain": [
       "73.3655514329845"
      ]
     },
     "execution_count": 175,
     "metadata": {},
     "output_type": "execute_result"
    }
   ],
   "source": [
    "RMSE_train"
   ]
  },
  {
   "cell_type": "code",
   "execution_count": 178,
   "metadata": {},
   "outputs": [],
   "source": [
    "predTest = regTrain.predict(pisaTest)"
   ]
  },
  {
   "cell_type": "code",
   "execution_count": 182,
   "metadata": {},
   "outputs": [
    {
     "data": {
      "text/plain": [
       "-284.4683117951421"
      ]
     },
     "execution_count": 182,
     "metadata": {},
     "output_type": "execute_result"
    }
   ],
   "source": [
    "predTest.min() - predTest.max()"
   ]
  },
  {
   "cell_type": "code",
   "execution_count": 183,
   "metadata": {},
   "outputs": [
    {
     "data": {
      "text/plain": [
       "637.6914349091121"
      ]
     },
     "execution_count": 183,
     "metadata": {},
     "output_type": "execute_result"
    }
   ],
   "source": [
    "predTest.max()"
   ]
  },
  {
   "cell_type": "code",
   "execution_count": 196,
   "metadata": {},
   "outputs": [
    {
     "data": {
      "text/plain": [
       "count    990.000000\n",
       "mean     516.710339\n",
       "std       52.034082\n",
       "min      353.223123\n",
       "25%      482.030498\n",
       "50%      523.980207\n",
       "75%      555.701125\n",
       "max      637.691435\n",
       "dtype: float64"
      ]
     },
     "execution_count": 196,
     "metadata": {},
     "output_type": "execute_result"
    }
   ],
   "source": [
    "predTest.describe()"
   ]
  },
  {
   "cell_type": "code",
   "execution_count": 200,
   "metadata": {},
   "outputs": [
    {
     "data": {
      "text/plain": [
       "5762082.3711443385"
      ]
     },
     "execution_count": 200,
     "metadata": {},
     "output_type": "execute_result"
    }
   ],
   "source": [
    "# Problem 4.2 - Test set SSE and RMSE\n",
    "# What is the sum of squared errors (SSE) of lmScore on the testing set?\n",
    "\n",
    "SSE_test = sum((predTest - pisaTest[\"readingScore\"])**2)\n",
    "SSE_test"
   ]
  },
  {
   "cell_type": "code",
   "execution_count": 208,
   "metadata": {},
   "outputs": [
    {
     "data": {
      "text/plain": [
       "7802354.077613841"
      ]
     },
     "execution_count": 208,
     "metadata": {},
     "output_type": "execute_result"
    }
   ],
   "source": [
    "SST_test = sum(((pisaTrain[\"readingScore\"]).mean() - pisaTest[\"readingScore\"]) ** 2 )\n",
    "SST_test"
   ]
  },
  {
   "cell_type": "code",
   "execution_count": 218,
   "metadata": {},
   "outputs": [
    {
     "data": {
      "text/plain": [
       "76.29079383109158"
      ]
     },
     "execution_count": 218,
     "metadata": {},
     "output_type": "execute_result"
    }
   ],
   "source": [
    "# What is the root-mean squared error (RMSE) of lmScore on the testing set?\n",
    "RMSE_test = (SSE_test / len(pisaTest)) ** (1/2)\n",
    "RMSE_test"
   ]
  },
  {
   "cell_type": "code",
   "execution_count": 220,
   "metadata": {},
   "outputs": [
    {
     "data": {
      "text/plain": [
       "7802354.077613841"
      ]
     },
     "execution_count": 220,
     "metadata": {},
     "output_type": "execute_result"
    }
   ],
   "source": [
    "# Problem 4.3 - Baseline prediction and test-set SSE\n",
    "# What is the predicted test score used in the baseline model? Remember to compute this value using the training set and \\\n",
    "# not the test set.\n",
    "baseline = pisaTrain[\"readingScore\"].mean()\n",
    "\n",
    "# What is the sum of squared errors of the baseline model on the testing set? HINT: We call the sum of squared errors for \\\n",
    "# the baseline model the total sum of squares (SST).\n",
    "SSE_base = sum((baseline - pisaTest[\"readingScore\"])**2)\n",
    "SSE_base"
   ]
  },
  {
   "cell_type": "code",
   "execution_count": 217,
   "metadata": {},
   "outputs": [
    {
     "data": {
      "text/plain": [
       "0.26149437543771015"
      ]
     },
     "execution_count": 217,
     "metadata": {},
     "output_type": "execute_result"
    }
   ],
   "source": [
    "# Problem 4.4 - Test-set R-squared\n",
    "# The test-set R^2 is defined as 1-SSE/SST, where SSE is the sum of squared errors of the model on the test set and SST is \\\n",
    "# the sum of squared errors of the baseline model. \n",
    "R2_test = 1 - (SSE_test/SST_test)\n",
    "R2_test"
   ]
  },
  {
   "cell_type": "code",
   "execution_count": null,
   "metadata": {},
   "outputs": [],
   "source": []
  }
 ],
 "metadata": {
  "kernelspec": {
   "display_name": "Python 3",
   "language": "python",
   "name": "python3"
  },
  "language_info": {
   "codemirror_mode": {
    "name": "ipython",
    "version": 3
   },
   "file_extension": ".py",
   "mimetype": "text/x-python",
   "name": "python",
   "nbconvert_exporter": "python",
   "pygments_lexer": "ipython3",
   "version": "3.8.2"
  }
 },
 "nbformat": 4,
 "nbformat_minor": 4
}
