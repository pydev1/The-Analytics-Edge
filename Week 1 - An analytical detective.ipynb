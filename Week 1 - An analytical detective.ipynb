{
 "cells": [
  {
   "cell_type": "code",
   "execution_count": null,
   "metadata": {},
   "outputs": [],
   "source": [
    "# MITx 15.071xThe Analytics Edge\n",
    "# Unit 1 Assignment 1 Exercise 1: An Analytical Detective"
   ]
  },
  {
   "cell_type": "code",
   "execution_count": 2,
   "metadata": {},
   "outputs": [],
   "source": [
    "import pandas as pd\n",
    "import numpy as np\n",
    "import matplotlib.pyplot as plt\n",
    "import os\n",
    "%matplotlib inline"
   ]
  },
  {
   "cell_type": "code",
   "execution_count": 3,
   "metadata": {},
   "outputs": [],
   "source": [
    "os.chdir(\"E:\\\\eDX - Analytics Edge\\\\Unit 1\\\\\")"
   ]
  },
  {
   "cell_type": "code",
   "execution_count": 4,
   "metadata": {},
   "outputs": [
    {
     "name": "stderr",
     "output_type": "stream",
     "text": [
      "c:\\program files\\python38\\lib\\site-packages\\IPython\\core\\interactiveshell.py:3145: DtypeWarning: Columns (6,7) have mixed types.Specify dtype option on import or set low_memory=False.\n",
      "  has_raised = await self.run_ast_nodes(code_ast.body, cell_name,\n"
     ]
    }
   ],
   "source": [
    "mvt = pd.read_csv(\"mvtWeek1.csv\")"
   ]
  },
  {
   "cell_type": "code",
   "execution_count": 5,
   "metadata": {},
   "outputs": [
    {
     "data": {
      "text/plain": [
       "191641"
      ]
     },
     "execution_count": 5,
     "metadata": {},
     "output_type": "execute_result"
    }
   ],
   "source": [
    "# Problem 1.1 - Loading the Data\n",
    "# No. of rows of data (observations) are in this dataset\n",
    "len(mvt)"
   ]
  },
  {
   "cell_type": "code",
   "execution_count": 221,
   "metadata": {},
   "outputs": [
    {
     "name": "stdout",
     "output_type": "stream",
     "text": [
      "<class 'pandas.core.frame.DataFrame'>\n",
      "RangeIndex: 191641 entries, 0 to 191640\n",
      "Data columns (total 13 columns):\n",
      " #   Column               Non-Null Count   Dtype         \n",
      "---  ------               --------------   -----         \n",
      " 0   ID                   191641 non-null  int64         \n",
      " 1   Date                 191641 non-null  datetime64[ns]\n",
      " 2   LocationDescription  191641 non-null  object        \n",
      " 3   Arrest               191641 non-null  bool          \n",
      " 4   Domestic             191641 non-null  bool          \n",
      " 5   Beat                 191641 non-null  int64         \n",
      " 6   District             148589 non-null  object        \n",
      " 7   CommunityArea        167038 non-null  object        \n",
      " 8   Year                 191641 non-null  int64         \n",
      " 9   Latitude             189365 non-null  float64       \n",
      " 10  Longitude            189365 non-null  float64       \n",
      " 11  Month                191641 non-null  int64         \n",
      " 12  Day                  191641 non-null  object        \n",
      "dtypes: bool(2), datetime64[ns](1), float64(2), int64(4), object(4)\n",
      "memory usage: 16.4+ MB\n"
     ]
    }
   ],
   "source": [
    "# # Problem 1.2 - Loading the Data\n",
    "#Check No. of columns\n",
    "mvt.info()"
   ]
  },
  {
   "cell_type": "code",
   "execution_count": 7,
   "metadata": {},
   "outputs": [
    {
     "data": {
      "text/plain": [
       "9181151"
      ]
     },
     "execution_count": 7,
     "metadata": {},
     "output_type": "execute_result"
    }
   ],
   "source": [
    "# Problem 1.3 - Loading the Data\n",
    "# maximum value of the column \"ID\"\n",
    "mvt.ID.max()"
   ]
  },
  {
   "cell_type": "code",
   "execution_count": 8,
   "metadata": {},
   "outputs": [
    {
     "data": {
      "text/plain": [
       "111"
      ]
     },
     "execution_count": 8,
     "metadata": {},
     "output_type": "execute_result"
    }
   ],
   "source": [
    "# Problem 1.4 - Loading the Data\n",
    "#minimum value of the column \"Beat\"\n",
    "mvt.Beat.min()"
   ]
  },
  {
   "cell_type": "code",
   "execution_count": 9,
   "metadata": {},
   "outputs": [
    {
     "data": {
      "text/plain": [
       "15536"
      ]
     },
     "execution_count": 9,
     "metadata": {},
     "output_type": "execute_result"
    }
   ],
   "source": [
    "# Problem 1.5 - Loading the Data\n",
    "# No. of observations have value TRUE in the Arrest variable\n",
    "(mvt.Arrest == True).sum()"
   ]
  },
  {
   "cell_type": "code",
   "execution_count": 10,
   "metadata": {},
   "outputs": [
    {
     "data": {
      "text/plain": [
       "15536"
      ]
     },
     "execution_count": 10,
     "metadata": {},
     "output_type": "execute_result"
    }
   ],
   "source": [
    "# No. of observations have value TRUE in the Arrest variable\n",
    "len(mvt[mvt.Arrest == True])"
   ]
  },
  {
   "cell_type": "code",
   "execution_count": 11,
   "metadata": {},
   "outputs": [
    {
     "data": {
      "text/plain": [
       "2308"
      ]
     },
     "execution_count": 11,
     "metadata": {},
     "output_type": "execute_result"
    }
   ],
   "source": [
    "# Problem 1.6 - Loading the Data\n",
    "# No. of observations have a LocationDescription value of ALLEY\n",
    "len(mvt[mvt.LocationDescription == 'ALLEY'])"
   ]
  },
  {
   "cell_type": "code",
   "execution_count": 12,
   "metadata": {},
   "outputs": [
    {
     "data": {
      "text/html": [
       "<div>\n",
       "<style scoped>\n",
       "    .dataframe tbody tr th:only-of-type {\n",
       "        vertical-align: middle;\n",
       "    }\n",
       "\n",
       "    .dataframe tbody tr th {\n",
       "        vertical-align: top;\n",
       "    }\n",
       "\n",
       "    .dataframe thead th {\n",
       "        text-align: right;\n",
       "    }\n",
       "</style>\n",
       "<table border=\"1\" class=\"dataframe\">\n",
       "  <thead>\n",
       "    <tr style=\"text-align: right;\">\n",
       "      <th></th>\n",
       "      <th>ID</th>\n",
       "      <th>Date</th>\n",
       "      <th>LocationDescription</th>\n",
       "      <th>Arrest</th>\n",
       "      <th>Domestic</th>\n",
       "      <th>Beat</th>\n",
       "      <th>District</th>\n",
       "      <th>CommunityArea</th>\n",
       "      <th>Year</th>\n",
       "      <th>Latitude</th>\n",
       "      <th>Longitude</th>\n",
       "    </tr>\n",
       "  </thead>\n",
       "  <tbody>\n",
       "    <tr>\n",
       "      <th>0</th>\n",
       "      <td>8951354</td>\n",
       "      <td>12/31/12 23:15</td>\n",
       "      <td>STREET</td>\n",
       "      <td>False</td>\n",
       "      <td>False</td>\n",
       "      <td>623</td>\n",
       "      <td>6</td>\n",
       "      <td>69</td>\n",
       "      <td>2012</td>\n",
       "      <td>41.756284</td>\n",
       "      <td>-87.621645</td>\n",
       "    </tr>\n",
       "  </tbody>\n",
       "</table>\n",
       "</div>"
      ],
      "text/plain": [
       "        ID            Date LocationDescription  Arrest  Domestic  Beat  \\\n",
       "0  8951354  12/31/12 23:15              STREET   False     False   623   \n",
       "\n",
       "  District CommunityArea  Year   Latitude  Longitude  \n",
       "0        6            69  2012  41.756284 -87.621645  "
      ]
     },
     "execution_count": 12,
     "metadata": {},
     "output_type": "execute_result"
    }
   ],
   "source": [
    "# Problem 2.1 - Understanding Dates\n",
    "# In what format are the entries in the variable Date\n",
    "mvt.head(1)"
   ]
  },
  {
   "cell_type": "code",
   "execution_count": 13,
   "metadata": {},
   "outputs": [
    {
     "data": {
      "text/plain": [
       "Timestamp('2001-01-01 00:01:00')"
      ]
     },
     "execution_count": 13,
     "metadata": {},
     "output_type": "execute_result"
    }
   ],
   "source": [
    "mvt.Date.astype(\"datetime64\").min()"
   ]
  },
  {
   "cell_type": "code",
   "execution_count": 14,
   "metadata": {},
   "outputs": [],
   "source": [
    "# Problem 2.2 - Understanding Dates\n",
    "#month and year of the median date in our dataset\n",
    "import statistics\n",
    "statistics.median(mvt.Date.astype(\"datetime64\"))"
   ]
  },
  {
   "cell_type": "code",
   "execution_count": 15,
   "metadata": {},
   "outputs": [
    {
     "data": {
      "text/plain": [
       "Timestamp('2006-05-21 12:30:00')"
      ]
     },
     "execution_count": 15,
     "metadata": {},
     "output_type": "execute_result"
    }
   ],
   "source": [
    "statistics.median(mvt.Date.astype(\"datetime64\"))"
   ]
  },
  {
   "cell_type": "code",
   "execution_count": 16,
   "metadata": {},
   "outputs": [
    {
     "data": {
      "text/html": [
       "<div>\n",
       "<style scoped>\n",
       "    .dataframe tbody tr th:only-of-type {\n",
       "        vertical-align: middle;\n",
       "    }\n",
       "\n",
       "    .dataframe tbody tr th {\n",
       "        vertical-align: top;\n",
       "    }\n",
       "\n",
       "    .dataframe thead th {\n",
       "        text-align: right;\n",
       "    }\n",
       "</style>\n",
       "<table border=\"1\" class=\"dataframe\">\n",
       "  <thead>\n",
       "    <tr style=\"text-align: right;\">\n",
       "      <th></th>\n",
       "      <th>ID</th>\n",
       "      <th>Beat</th>\n",
       "      <th>Year</th>\n",
       "      <th>Latitude</th>\n",
       "      <th>Longitude</th>\n",
       "    </tr>\n",
       "  </thead>\n",
       "  <tbody>\n",
       "    <tr>\n",
       "      <th>count</th>\n",
       "      <td>1.916410e+05</td>\n",
       "      <td>191641.000000</td>\n",
       "      <td>191641.000000</td>\n",
       "      <td>189365.000000</td>\n",
       "      <td>189365.000000</td>\n",
       "    </tr>\n",
       "    <tr>\n",
       "      <th>mean</th>\n",
       "      <td>4.968629e+06</td>\n",
       "      <td>1258.810771</td>\n",
       "      <td>2006.134940</td>\n",
       "      <td>41.844555</td>\n",
       "      <td>-87.677782</td>\n",
       "    </tr>\n",
       "    <tr>\n",
       "      <th>std</th>\n",
       "      <td>2.342997e+06</td>\n",
       "      <td>702.530465</td>\n",
       "      <td>3.520285</td>\n",
       "      <td>0.085583</td>\n",
       "      <td>0.057333</td>\n",
       "    </tr>\n",
       "    <tr>\n",
       "      <th>min</th>\n",
       "      <td>1.310022e+06</td>\n",
       "      <td>111.000000</td>\n",
       "      <td>2001.000000</td>\n",
       "      <td>41.644710</td>\n",
       "      <td>-87.925510</td>\n",
       "    </tr>\n",
       "    <tr>\n",
       "      <th>25%</th>\n",
       "      <td>2.832144e+06</td>\n",
       "      <td>722.000000</td>\n",
       "      <td>2003.000000</td>\n",
       "      <td>41.771618</td>\n",
       "      <td>-87.718474</td>\n",
       "    </tr>\n",
       "    <tr>\n",
       "      <th>50%</th>\n",
       "      <td>4.762956e+06</td>\n",
       "      <td>1121.000000</td>\n",
       "      <td>2006.000000</td>\n",
       "      <td>41.850029</td>\n",
       "      <td>-87.677597</td>\n",
       "    </tr>\n",
       "    <tr>\n",
       "      <th>75%</th>\n",
       "      <td>7.201878e+06</td>\n",
       "      <td>1733.000000</td>\n",
       "      <td>2009.000000</td>\n",
       "      <td>41.917116</td>\n",
       "      <td>-87.635513</td>\n",
       "    </tr>\n",
       "    <tr>\n",
       "      <th>max</th>\n",
       "      <td>9.181151e+06</td>\n",
       "      <td>2535.000000</td>\n",
       "      <td>2012.000000</td>\n",
       "      <td>42.022878</td>\n",
       "      <td>-87.524676</td>\n",
       "    </tr>\n",
       "  </tbody>\n",
       "</table>\n",
       "</div>"
      ],
      "text/plain": [
       "                 ID           Beat           Year       Latitude  \\\n",
       "count  1.916410e+05  191641.000000  191641.000000  189365.000000   \n",
       "mean   4.968629e+06    1258.810771    2006.134940      41.844555   \n",
       "std    2.342997e+06     702.530465       3.520285       0.085583   \n",
       "min    1.310022e+06     111.000000    2001.000000      41.644710   \n",
       "25%    2.832144e+06     722.000000    2003.000000      41.771618   \n",
       "50%    4.762956e+06    1121.000000    2006.000000      41.850029   \n",
       "75%    7.201878e+06    1733.000000    2009.000000      41.917116   \n",
       "max    9.181151e+06    2535.000000    2012.000000      42.022878   \n",
       "\n",
       "           Longitude  \n",
       "count  189365.000000  \n",
       "mean      -87.677782  \n",
       "std         0.057333  \n",
       "min       -87.925510  \n",
       "25%       -87.718474  \n",
       "50%       -87.677597  \n",
       "75%       -87.635513  \n",
       "max       -87.524676  "
      ]
     },
     "execution_count": 16,
     "metadata": {},
     "output_type": "execute_result"
    }
   ],
   "source": [
    "mvt.describe()"
   ]
  },
  {
   "cell_type": "code",
   "execution_count": 26,
   "metadata": {},
   "outputs": [],
   "source": [
    "mvt.Date = mvt.Date.astype(\"datetime64\")"
   ]
  },
  {
   "cell_type": "code",
   "execution_count": 32,
   "metadata": {},
   "outputs": [
    {
     "data": {
      "text/plain": [
       "0         31\n",
       "1         31\n",
       "2         31\n",
       "3         31\n",
       "4         31\n",
       "          ..\n",
       "191636     1\n",
       "191637     1\n",
       "191638     1\n",
       "191639     1\n",
       "191640     1\n",
       "Name: Date, Length: 191641, dtype: int64"
      ]
     },
     "execution_count": 32,
     "metadata": {},
     "output_type": "execute_result"
    }
   ],
   "source": [
    "mvt.Date.dt.day"
   ]
  },
  {
   "cell_type": "code",
   "execution_count": 33,
   "metadata": {},
   "outputs": [
    {
     "data": {
      "text/plain": [
       "0         12\n",
       "1         12\n",
       "2         12\n",
       "3         12\n",
       "4         12\n",
       "          ..\n",
       "191636     1\n",
       "191637     1\n",
       "191638     1\n",
       "191639     1\n",
       "191640     1\n",
       "Name: Date, Length: 191641, dtype: int64"
      ]
     },
     "execution_count": 33,
     "metadata": {},
     "output_type": "execute_result"
    }
   ],
   "source": [
    " mvt.Date.dt.month"
   ]
  },
  {
   "cell_type": "code",
   "execution_count": 89,
   "metadata": {},
   "outputs": [],
   "source": [
    "# two new columns in mvt data frame, Month and Weekday\n",
    "mvt[\"Month\"] = mvt.Date.dt.month\n",
    "mvt[\"Day\"] = mvt.Date.dt.day_name()"
   ]
  },
  {
   "cell_type": "code",
   "execution_count": 90,
   "metadata": {},
   "outputs": [
    {
     "name": "stdout",
     "output_type": "stream",
     "text": [
      "<class 'pandas.core.frame.DataFrame'>\n",
      "RangeIndex: 191641 entries, 0 to 191640\n",
      "Data columns (total 13 columns):\n",
      " #   Column               Non-Null Count   Dtype         \n",
      "---  ------               --------------   -----         \n",
      " 0   ID                   191641 non-null  int64         \n",
      " 1   Date                 191641 non-null  datetime64[ns]\n",
      " 2   LocationDescription  191641 non-null  object        \n",
      " 3   Arrest               191641 non-null  bool          \n",
      " 4   Domestic             191641 non-null  bool          \n",
      " 5   Beat                 191641 non-null  int64         \n",
      " 6   District             148589 non-null  object        \n",
      " 7   CommunityArea        167038 non-null  object        \n",
      " 8   Year                 191641 non-null  int64         \n",
      " 9   Latitude             189365 non-null  float64       \n",
      " 10  Longitude            189365 non-null  float64       \n",
      " 11  Month                191641 non-null  int64         \n",
      " 12  Day                  191641 non-null  object        \n",
      "dtypes: bool(2), datetime64[ns](1), float64(2), int64(4), object(4)\n",
      "memory usage: 16.4+ MB\n"
     ]
    }
   ],
   "source": [
    "mvt.info()"
   ]
  },
  {
   "cell_type": "code",
   "execution_count": 44,
   "metadata": {},
   "outputs": [
    {
     "data": {
      "text/plain": [
       "10    17086\n",
       "7     16801\n",
       "8     16572\n",
       "12    16426\n",
       "11    16063\n",
       "9     16060\n",
       "1     16047\n",
       "5     16035\n",
       "6     16002\n",
       "3     15758\n",
       "4     15280\n",
       "2     13511\n",
       "Name: Month, dtype: int64"
      ]
     },
     "execution_count": 44,
     "metadata": {},
     "output_type": "execute_result"
    }
   ],
   "source": [
    "# Problem 2.3 - Understanding Dates\n",
    "# In which month did the fewest motor vehicle thefts occur?\n",
    "(mvt.Month.value_counts())"
   ]
  },
  {
   "cell_type": "code",
   "execution_count": 81,
   "metadata": {},
   "outputs": [
    {
     "data": {
      "text/plain": [
       "<bound method PandasDelegate._add_delegate_accessors.<locals>._create_delegator_method.<locals>.f of <pandas.core.indexes.accessors.DatetimeProperties object at 0x00000292F63DE160>>    191641\n",
       "Name: Day, dtype: int64"
      ]
     },
     "execution_count": 81,
     "metadata": {},
     "output_type": "execute_result"
    }
   ],
   "source": [
    "(mvt.Day.value_counts())"
   ]
  },
  {
   "cell_type": "code",
   "execution_count": 66,
   "metadata": {},
   "outputs": [
    {
     "data": {
      "text/plain": [
       "0        2012-12-31 23:15:00\n",
       "1        2012-12-31 22:00:00\n",
       "2        2012-12-31 22:00:00\n",
       "3        2012-12-31 22:00:00\n",
       "4        2012-12-31 21:30:00\n",
       "                 ...        \n",
       "191636   2001-01-01 00:05:00\n",
       "191637   2001-01-01 00:01:00\n",
       "191638   2001-01-01 00:01:00\n",
       "191639   2001-01-01 00:01:00\n",
       "191640   2001-01-01 00:01:00\n",
       "Name: Date, Length: 191641, dtype: datetime64[ns]"
      ]
     },
     "execution_count": 66,
     "metadata": {},
     "output_type": "execute_result"
    }
   ],
   "source": [
    "pd.to_datetime(mvt[\"Date\"])"
   ]
  },
  {
   "cell_type": "code",
   "execution_count": 95,
   "metadata": {},
   "outputs": [
    {
     "data": {
      "text/plain": [
       "<bound method Series.max of Friday       29284\n",
       "Wednesday    27416\n",
       "Monday       27397\n",
       "Thursday     27319\n",
       "Saturday     27118\n",
       "Tuesday      26791\n",
       "Sunday       26316\n",
       "Name: Day, dtype: int64>"
      ]
     },
     "execution_count": 95,
     "metadata": {},
     "output_type": "execute_result"
    }
   ],
   "source": [
    "# Problem 2.4 - Understanding Dates\n",
    "# weekday on which the most motor vehicle thefts occur\n",
    "mvt.Day.value_counts().max"
   ]
  },
  {
   "cell_type": "code",
   "execution_count": 105,
   "metadata": {},
   "outputs": [
    {
     "data": {
      "text/plain": [
       "<bound method Series.max of 1     1435\n",
       "12    1397\n",
       "10    1342\n",
       "8     1329\n",
       "7     1324\n",
       "3     1298\n",
       "11    1256\n",
       "4     1252\n",
       "9     1248\n",
       "2     1238\n",
       "6     1230\n",
       "5     1187\n",
       "Name: Month, dtype: int64>"
      ]
     },
     "execution_count": 105,
     "metadata": {},
     "output_type": "execute_result"
    }
   ],
   "source": [
    "# Problem 2.5 - Understanding Dates\n",
    "# month has the largest number of motor vehicle thefts for which an arrest was made\n",
    "mvt[mvt.Arrest == True].Month.value_counts().max "
   ]
  },
  {
   "cell_type": "code",
   "execution_count": 232,
   "metadata": {},
   "outputs": [
    {
     "data": {
      "image/png": "[encoded data removed]",
      "text/plain": [
       "<Figure size 432x288 with 1 Axes>"
      ]
     },
     "metadata": {
      "needs_background": "light"
     },
     "output_type": "display_data"
    }
   ],
   "source": [
    "# Problem 3.1 - Visualizing Crime Trends\n",
    "# make a histogram of the variable Date\n",
    "plt.hist(x=mvt[\"Date\"], bins=100)\n",
    "plt.show()\n",
    "#mvt.hist(column=mvt[\"Date\"], bins=100)"
   ]
  },
  {
   "cell_type": "code",
   "execution_count": 233,
   "metadata": {},
   "outputs": [
    {
     "data": {
      "image/png": "[encoded data removed]",
      "text/plain": [
       "<Figure size 432x288 with 1 Axes>"
      ]
     },
     "metadata": {
      "needs_background": "light"
     },
     "output_type": "display_data"
    }
   ],
   "source": [
    "# Problem 3.2 - Visualizing Crime Trends\n",
    "\n",
    "# Create a boxplot of the variable \"Date\"(This should be year?), sorted by the variable \"Arrest\"\n",
    "#Does it look like there were more crimes for which arrests were made in the first half of the time period \n",
    "#or the second half of the time period? \n",
    "#(Note that the time period is from 2001 to 2012, so the middle of the time period is the beginning of 2007.)\n",
    "_ = mvt.boxplot(by = \"Arrest\", column=\"Year\")\n"
   ]
  },
  {
   "cell_type": "code",
   "execution_count": 155,
   "metadata": {},
   "outputs": [
    {
     "data": {
      "text/plain": [
       "False    0.895883\n",
       "True     0.104117\n",
       "Name: Arrest, dtype: float64"
      ]
     },
     "execution_count": 155,
     "metadata": {},
     "output_type": "execute_result"
    }
   ],
   "source": [
    "# Problem 3.3 - Visualizing Crime Trends\n",
    "# For what proportion of motor vehicle thefts in 2001 was an arrest made?\n",
    "mvt.Arrest[mvt[\"Year\"] == 2001].value_counts(normalize = True)"
   ]
  },
  {
   "cell_type": "code",
   "execution_count": 157,
   "metadata": {},
   "outputs": [
    {
     "data": {
      "text/plain": [
       "False    0.915126\n",
       "True     0.084874\n",
       "Name: Arrest, dtype: float64"
      ]
     },
     "execution_count": 157,
     "metadata": {},
     "output_type": "execute_result"
    }
   ],
   "source": [
    "# Problem 3.4 - Visualizing Crime Trends\n",
    "# For what proportion of motor vehicle thefts in 2007 was an arrest made?\n",
    "mvt.Arrest[mvt[\"Year\"]==2007].value_counts(normalize=True)"
   ]
  },
  {
   "cell_type": "code",
   "execution_count": 158,
   "metadata": {},
   "outputs": [
    {
     "data": {
      "text/plain": [
       "False    0.960971\n",
       "True     0.039029\n",
       "Name: Arrest, dtype: float64"
      ]
     },
     "execution_count": 158,
     "metadata": {},
     "output_type": "execute_result"
    }
   ],
   "source": [
    "# Problem 3.5 - Visualizing Crime Trends\n",
    "# For what proportion of motor vehicle thefts in 2012 was an arrest made?\n",
    "mvt.Arrest[mvt[\"Year\"]==2012].value_counts(normalize=True)"
   ]
  },
  {
   "cell_type": "code",
   "execution_count": 167,
   "metadata": {},
   "outputs": [
    {
     "data": {
      "text/plain": [
       "STREET                            156564\n",
       "PARKING LOT/GARAGE(NON.RESID.)     14852\n",
       "ALLEY                               2308\n",
       "GAS STATION                         2111\n",
       "DRIVEWAY - RESIDENTIAL              1675\n",
       "Name: LocationDescription, dtype: int64"
      ]
     },
     "execution_count": 167,
     "metadata": {},
     "output_type": "execute_result"
    }
   ],
   "source": [
    "# Problem 4.1 - Popular Locations\n",
    "#Which locations are the top five locations for motor vehicle thefts, excluding the “Other” category?\n",
    "mvt.LocationDescription[mvt[\"LocationDescription\"] != \"OTHER\"].value_counts().head(5)"
   ]
  },
  {
   "cell_type": "code",
   "execution_count": 176,
   "metadata": {},
   "outputs": [
    {
     "data": {
      "text/plain": [
       "STREET                            156564\n",
       "PARKING LOT/GARAGE(NON.RESID.)     14852\n",
       "ALLEY                               2308\n",
       "GAS STATION                         2111\n",
       "DRIVEWAY - RESIDENTIAL              1675\n",
       "Name: LocationDescription, dtype: int64"
      ]
     },
     "execution_count": 176,
     "metadata": {},
     "output_type": "execute_result"
    }
   ],
   "source": [
    "mvt.LocationDescription[mvt[\"LocationDescription\"] != \"OTHER\"].value_counts().head(5)"
   ]
  },
  {
   "cell_type": "code",
   "execution_count": 180,
   "metadata": {},
   "outputs": [],
   "source": [
    "# Problem 4.2 - Popular Locations\n",
    "# Create new DF to Store top 5 location data\n",
    "top5_loc = mvt.LocationDescription[mvt[\"LocationDescription\"] != \"OTHER\"].value_counts().head(5)"
   ]
  },
  {
   "cell_type": "code",
   "execution_count": 199,
   "metadata": {},
   "outputs": [],
   "source": [
    "# Create a subset of your data, only taking observations for which the theft happened in one of these five locations, \n",
    "# and call this new data set \"Top5\"\n",
    "Top5 = mvt[mvt.LocationDescription.isin(top5_loc.keys())]"
   ]
  },
  {
   "cell_type": "code",
   "execution_count": 201,
   "metadata": {},
   "outputs": [
    {
     "data": {
      "text/plain": [
       "pandas.core.frame.DataFrame"
      ]
     },
     "execution_count": 201,
     "metadata": {},
     "output_type": "execute_result"
    }
   ],
   "source": [
    "type(Top5)"
   ]
  },
  {
   "cell_type": "code",
   "execution_count": 204,
   "metadata": {},
   "outputs": [
    {
     "data": {
      "text/plain": [
       "177510"
      ]
     },
     "execution_count": 204,
     "metadata": {},
     "output_type": "execute_result"
    }
   ],
   "source": [
    "# Problem 4.2 - Popular Locations\n",
    "# Find count of Top5\n",
    "len(Top5)"
   ]
  },
  {
   "cell_type": "code",
   "execution_count": 224,
   "metadata": {},
   "outputs": [
    {
     "data": {
      "text/plain": [
       "STREET                            156564\n",
       "PARKING LOT/GARAGE(NON.RESID.)     14852\n",
       "ALLEY                               2308\n",
       "GAS STATION                         2111\n",
       "DRIVEWAY - RESIDENTIAL              1675\n",
       "Name: LocationDescription, dtype: int64"
      ]
     },
     "execution_count": 224,
     "metadata": {},
     "output_type": "execute_result"
    }
   ],
   "source": [
    "Top5.LocationDescription.value_counts() "
   ]
  },
  {
   "cell_type": "code",
   "execution_count": 226,
   "metadata": {},
   "outputs": [
    {
     "data": {
      "text/plain": [
       "STREET                            11595\n",
       "PARKING LOT/GARAGE(NON.RESID.)     1603\n",
       "GAS STATION                         439\n",
       "ALLEY                               249\n",
       "DRIVEWAY - RESIDENTIAL              132\n",
       "Name: LocationDescription, dtype: int64"
      ]
     },
     "execution_count": 226,
     "metadata": {},
     "output_type": "execute_result"
    }
   ],
   "source": [
    "Top5.LocationDescription[Top5[\"Arrest\"] == True].value_counts() "
   ]
  },
  {
   "cell_type": "code",
   "execution_count": 229,
   "metadata": {},
   "outputs": [
    {
     "data": {
      "text/plain": [
       "ALLEY                             10.788562\n",
       "DRIVEWAY - RESIDENTIAL             7.880597\n",
       "GAS STATION                       20.795831\n",
       "PARKING LOT/GARAGE(NON.RESID.)    10.793159\n",
       "STREET                             7.405917\n",
       "Name: LocationDescription, dtype: float64"
      ]
     },
     "execution_count": 229,
     "metadata": {},
     "output_type": "execute_result"
    }
   ],
   "source": [
    "# Problem 4.3 - Popular Locations\n",
    "# One of the locations has a much higher arrest rate than the other locations. Which is it?\n",
    "(Top5.LocationDescription[Top5[\"Arrest\"] == True].value_counts() / Top5.LocationDescription.value_counts()) * 100"
   ]
  },
  {
   "cell_type": "code",
   "execution_count": 218,
   "metadata": {},
   "outputs": [
    {
     "data": {
      "text/plain": [
       "Saturday     338\n",
       "Sunday       336\n",
       "Friday       332\n",
       "Thursday     282\n",
       "Monday       280\n",
       "Wednesday    273\n",
       "Tuesday      270\n",
       "Name: Day, dtype: int64"
      ]
     },
     "execution_count": 218,
     "metadata": {},
     "output_type": "execute_result"
    }
   ],
   "source": [
    "#Problem 4.4 - Popular Locations\n",
    "#On which day of the week do the most motor vehicle thefts at gas stations happen?\n",
    "\n",
    "Top5[Top5[\"LocationDescription\"] == \"GAS STATION\"].Day.value_counts()"
   ]
  },
  {
   "cell_type": "code",
   "execution_count": 219,
   "metadata": {},
   "outputs": [
    {
     "data": {
      "text/plain": [
       "Thursday     263\n",
       "Friday       257\n",
       "Monday       255\n",
       "Tuesday      243\n",
       "Wednesday    234\n",
       "Sunday       221\n",
       "Saturday     202\n",
       "Name: Day, dtype: int64"
      ]
     },
     "execution_count": 219,
     "metadata": {},
     "output_type": "execute_result"
    }
   ],
   "source": [
    "# Problem 4.5 - Popular Locations\n",
    "#On which day of the week do the fewest motor vehicle thefts in residential driveways happen?\n",
    "\n",
    "Top5[Top5[\"LocationDescription\"] == \"DRIVEWAY - RESIDENTIAL\"].Day.value_counts()"
   ]
  }
 ],
 "metadata": {
  "kernelspec": {
   "display_name": "Python 3",
   "language": "python",
   "name": "python3"
  },
  "language_info": {
   "codemirror_mode": {
    "name": "ipython",
    "version": 3
   },
   "file_extension": ".py",
   "mimetype": "text/x-python",
   "name": "python",
   "nbconvert_exporter": "python",
   "pygments_lexer": "ipython3",
   "version": "3.8.2"
  }
 },
 "nbformat": 4,
 "nbformat_minor": 4
}
